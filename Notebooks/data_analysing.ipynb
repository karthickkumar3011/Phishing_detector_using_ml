{
 "cells": [
  {
   "cell_type": "code",
   "execution_count": 1,
   "metadata": {},
   "outputs": [],
   "source": [
    "import pandas as pd"
   ]
  },
  {
   "cell_type": "code",
   "execution_count": 4,
   "metadata": {},
   "outputs": [],
   "source": [
    "df=pd.read_csv(r\"..\\data\\phishing_detector_ml_df.csv\")"
   ]
  },
  {
   "cell_type": "code",
   "execution_count": 19,
   "metadata": {},
   "outputs": [
    {
     "data": {
      "text/html": [
       "<div>\n",
       "<style scoped>\n",
       "    .dataframe tbody tr th:only-of-type {\n",
       "        vertical-align: middle;\n",
       "    }\n",
       "\n",
       "    .dataframe tbody tr th {\n",
       "        vertical-align: top;\n",
       "    }\n",
       "\n",
       "    .dataframe thead th {\n",
       "        text-align: right;\n",
       "    }\n",
       "</style>\n",
       "<table border=\"1\" class=\"dataframe\">\n",
       "  <thead>\n",
       "    <tr style=\"text-align: right;\">\n",
       "      <th></th>\n",
       "      <th>url_length</th>\n",
       "      <th>num_dots</th>\n",
       "      <th>num_special_chars</th>\n",
       "      <th>has_at_symbol</th>\n",
       "      <th>has_hyphen</th>\n",
       "      <th>is_ip</th>\n",
       "      <th>has_redirect</th>\n",
       "      <th>num_subdomains</th>\n",
       "      <th>is_shortened</th>\n",
       "      <th>url_entropy</th>\n",
       "      <th>has_suspicious_keyword</th>\n",
       "      <th>is_brand_spoofed</th>\n",
       "      <th>domain_age</th>\n",
       "      <th>domain_expiry</th>\n",
       "      <th>whois_private</th>\n",
       "      <th>https_used</th>\n",
       "      <th>result</th>\n",
       "    </tr>\n",
       "  </thead>\n",
       "  <tbody>\n",
       "    <tr>\n",
       "      <th>0</th>\n",
       "      <td>34</td>\n",
       "      <td>2</td>\n",
       "      <td>3</td>\n",
       "      <td>0</td>\n",
       "      <td>0</td>\n",
       "      <td>0</td>\n",
       "      <td>1</td>\n",
       "      <td>0</td>\n",
       "      <td>0</td>\n",
       "      <td>3.895424</td>\n",
       "      <td>0</td>\n",
       "      <td>0</td>\n",
       "      <td>-1</td>\n",
       "      <td>-1</td>\n",
       "      <td>-1</td>\n",
       "      <td>-1</td>\n",
       "      <td>1</td>\n",
       "    </tr>\n",
       "    <tr>\n",
       "      <th>1</th>\n",
       "      <td>40</td>\n",
       "      <td>1</td>\n",
       "      <td>6</td>\n",
       "      <td>0</td>\n",
       "      <td>0</td>\n",
       "      <td>0</td>\n",
       "      <td>1</td>\n",
       "      <td>0</td>\n",
       "      <td>0</td>\n",
       "      <td>4.003702</td>\n",
       "      <td>0</td>\n",
       "      <td>0</td>\n",
       "      <td>7438</td>\n",
       "      <td>231</td>\n",
       "      <td>1</td>\n",
       "      <td>0</td>\n",
       "      <td>0</td>\n",
       "    </tr>\n",
       "    <tr>\n",
       "      <th>2</th>\n",
       "      <td>165</td>\n",
       "      <td>3</td>\n",
       "      <td>14</td>\n",
       "      <td>0</td>\n",
       "      <td>0</td>\n",
       "      <td>0</td>\n",
       "      <td>1</td>\n",
       "      <td>0</td>\n",
       "      <td>0</td>\n",
       "      <td>5.487221</td>\n",
       "      <td>1</td>\n",
       "      <td>0</td>\n",
       "      <td>-1</td>\n",
       "      <td>-1</td>\n",
       "      <td>-1</td>\n",
       "      <td>-1</td>\n",
       "      <td>0</td>\n",
       "    </tr>\n",
       "    <tr>\n",
       "      <th>3</th>\n",
       "      <td>78</td>\n",
       "      <td>2</td>\n",
       "      <td>10</td>\n",
       "      <td>0</td>\n",
       "      <td>0</td>\n",
       "      <td>0</td>\n",
       "      <td>1</td>\n",
       "      <td>0</td>\n",
       "      <td>0</td>\n",
       "      <td>4.221175</td>\n",
       "      <td>0</td>\n",
       "      <td>0</td>\n",
       "      <td>-1</td>\n",
       "      <td>-1</td>\n",
       "      <td>1</td>\n",
       "      <td>0</td>\n",
       "      <td>0</td>\n",
       "    </tr>\n",
       "    <tr>\n",
       "      <th>4</th>\n",
       "      <td>32</td>\n",
       "      <td>1</td>\n",
       "      <td>4</td>\n",
       "      <td>0</td>\n",
       "      <td>0</td>\n",
       "      <td>0</td>\n",
       "      <td>1</td>\n",
       "      <td>0</td>\n",
       "      <td>0</td>\n",
       "      <td>3.952820</td>\n",
       "      <td>0</td>\n",
       "      <td>0</td>\n",
       "      <td>-1</td>\n",
       "      <td>-1</td>\n",
       "      <td>-1</td>\n",
       "      <td>-1</td>\n",
       "      <td>0</td>\n",
       "    </tr>\n",
       "  </tbody>\n",
       "</table>\n",
       "</div>"
      ],
      "text/plain": [
       "   url_length  num_dots  num_special_chars  has_at_symbol  has_hyphen  is_ip  \\\n",
       "0          34         2                  3              0           0      0   \n",
       "1          40         1                  6              0           0      0   \n",
       "2         165         3                 14              0           0      0   \n",
       "3          78         2                 10              0           0      0   \n",
       "4          32         1                  4              0           0      0   \n",
       "\n",
       "   has_redirect  num_subdomains  is_shortened  url_entropy  \\\n",
       "0             1               0             0     3.895424   \n",
       "1             1               0             0     4.003702   \n",
       "2             1               0             0     5.487221   \n",
       "3             1               0             0     4.221175   \n",
       "4             1               0             0     3.952820   \n",
       "\n",
       "   has_suspicious_keyword  is_brand_spoofed  domain_age  domain_expiry  \\\n",
       "0                       0                 0          -1             -1   \n",
       "1                       0                 0        7438            231   \n",
       "2                       1                 0          -1             -1   \n",
       "3                       0                 0          -1             -1   \n",
       "4                       0                 0          -1             -1   \n",
       "\n",
       "   whois_private  https_used  result  \n",
       "0             -1          -1       1  \n",
       "1              1           0       0  \n",
       "2             -1          -1       0  \n",
       "3              1           0       0  \n",
       "4             -1          -1       0  "
      ]
     },
     "execution_count": 19,
     "metadata": {},
     "output_type": "execute_result"
    }
   ],
   "source": [
    "df.head()"
   ]
  },
  {
   "cell_type": "code",
   "execution_count": 20,
   "metadata": {},
   "outputs": [
    {
     "name": "stdout",
     "output_type": "stream",
     "text": [
      "<class 'pandas.core.frame.DataFrame'>\n",
      "RangeIndex: 10000 entries, 0 to 9999\n",
      "Data columns (total 17 columns):\n",
      " #   Column                  Non-Null Count  Dtype  \n",
      "---  ------                  --------------  -----  \n",
      " 0   url_length              10000 non-null  int64  \n",
      " 1   num_dots                10000 non-null  int64  \n",
      " 2   num_special_chars       10000 non-null  int64  \n",
      " 3   has_at_symbol           10000 non-null  int64  \n",
      " 4   has_hyphen              10000 non-null  int64  \n",
      " 5   is_ip                   10000 non-null  int64  \n",
      " 6   has_redirect            10000 non-null  int64  \n",
      " 7   num_subdomains          10000 non-null  int64  \n",
      " 8   is_shortened            10000 non-null  int64  \n",
      " 9   url_entropy             10000 non-null  float64\n",
      " 10  has_suspicious_keyword  10000 non-null  int64  \n",
      " 11  is_brand_spoofed        10000 non-null  int64  \n",
      " 12  domain_age              10000 non-null  int64  \n",
      " 13  domain_expiry           10000 non-null  int64  \n",
      " 14  whois_private           10000 non-null  int64  \n",
      " 15  https_used              10000 non-null  int64  \n",
      " 16  result                  10000 non-null  int64  \n",
      "dtypes: float64(1), int64(16)\n",
      "memory usage: 1.3 MB\n"
     ]
    }
   ],
   "source": [
    "df.info()"
   ]
  },
  {
   "cell_type": "code",
   "execution_count": 21,
   "metadata": {},
   "outputs": [
    {
     "name": "stdout",
     "output_type": "stream",
     "text": [
      "result                    1.000000\n",
      "domain_age                0.598640\n",
      "https_used                0.395648\n",
      "whois_private             0.281856\n",
      "domain_expiry             0.243850\n",
      "num_subdomains            0.173104\n",
      "has_redirect              0.083354\n",
      "num_dots                  0.035962\n",
      "url_entropy               0.026235\n",
      "num_special_chars        -0.023820\n",
      "is_shortened             -0.044766\n",
      "url_length               -0.092330\n",
      "has_hyphen               -0.105503\n",
      "has_at_symbol            -0.113905\n",
      "is_ip                    -0.118292\n",
      "is_brand_spoofed         -0.123270\n",
      "has_suspicious_keyword   -0.279688\n",
      "Name: result, dtype: float64\n"
     ]
    }
   ],
   "source": [
    "import seaborn as sns\n",
    "import matplotlib.pyplot as plt\n",
    "\n",
    "correlation_with_target = df.corr()[\"result\"].sort_values(ascending=False)\n",
    "print(correlation_with_target)\n"
   ]
  },
  {
   "cell_type": "code",
   "execution_count": 5,
   "metadata": {},
   "outputs": [
    {
     "data": {
      "text/plain": [
       "(10000, 17)"
      ]
     },
     "execution_count": 5,
     "metadata": {},
     "output_type": "execute_result"
    }
   ],
   "source": [
    "df.shape"
   ]
  },
  {
   "cell_type": "code",
   "execution_count": null,
   "metadata": {},
   "outputs": [],
   "source": []
  }
 ],
 "metadata": {
  "kernelspec": {
   "display_name": "pvenv",
   "language": "python",
   "name": "python3"
  },
  "language_info": {
   "codemirror_mode": {
    "name": "ipython",
    "version": 3
   },
   "file_extension": ".py",
   "mimetype": "text/x-python",
   "name": "python",
   "nbconvert_exporter": "python",
   "pygments_lexer": "ipython3",
   "version": "3.12.4"
  }
 },
 "nbformat": 4,
 "nbformat_minor": 2
}
